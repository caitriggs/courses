{
 "cells": [
  {
   "cell_type": "markdown",
   "metadata": {
    "toc": "true"
   },
   "source": [
    "# Table of Contents\n",
    " <p>"
   ]
  },
  {
   "cell_type": "code",
   "execution_count": 1,
   "metadata": {
    "collapsed": true
   },
   "outputs": [],
   "source": [
    "%matplotlib inline\n",
    "import math,sys,os,numpy as np\n",
    "from numpy.random import random\n",
    "from matplotlib import pyplot as plt, rcParams, animation, rc\n",
    "from __future__ import print_function, division\n",
    "from ipywidgets import interact, interactive, fixed\n",
    "from ipywidgets.widgets import *\n",
    "rc('animation', html='html5')\n",
    "rcParams['figure.figsize'] = 3, 3\n",
    "%precision 4\n",
    "np.set_printoptions(precision=4, linewidth=100)"
   ]
  },
  {
   "cell_type": "code",
   "execution_count": 2,
   "metadata": {
    "collapsed": true
   },
   "outputs": [],
   "source": [
    "def lin(a,b,x): return a*x+b"
   ]
  },
  {
   "cell_type": "code",
   "execution_count": 3,
   "metadata": {
    "collapsed": true
   },
   "outputs": [],
   "source": [
    "a=3.\n",
    "b=8."
   ]
  },
  {
   "cell_type": "code",
   "execution_count": 4,
   "metadata": {
    "collapsed": true
   },
   "outputs": [],
   "source": [
    "n=30\n",
    "x = random(n)\n",
    "y = lin(a,b,x)"
   ]
  },
  {
   "cell_type": "code",
   "execution_count": 5,
   "metadata": {
    "collapsed": false
   },
   "outputs": [
    {
     "data": {
      "text/plain": [
       "array([ 0.138 ,  0.6951,  0.9568,  0.0196,  0.7886,  0.1256,  0.9598,  0.7006,  0.9418,  0.2325,\n",
       "        0.4877,  0.7501,  0.2404,  0.2493,  0.9447,  0.3555,  0.7508,  0.9758,  0.8138,  0.6557,\n",
       "        0.952 ,  0.9711,  0.9619,  0.6475,  0.3561,  0.3163,  0.4549,  0.4619,  0.8252,  0.8968])"
      ]
     },
     "execution_count": 5,
     "metadata": {},
     "output_type": "execute_result"
    }
   ],
   "source": [
    "x"
   ]
  },
  {
   "cell_type": "code",
   "execution_count": 6,
   "metadata": {
    "collapsed": false
   },
   "outputs": [
    {
     "data": {
      "text/plain": [
       "array([  8.4139,  10.0854,  10.8705,   8.0587,  10.3658,   8.3769,  10.8795,  10.1018,  10.8254,\n",
       "         8.6976,   9.463 ,  10.2504,   8.7211,   8.748 ,  10.834 ,   9.0665,  10.2523,  10.9273,\n",
       "        10.4413,   9.9671,  10.8559,  10.9134,  10.8858,   9.9426,   9.0683,   8.949 ,   9.3646,\n",
       "         9.3857,  10.4755,  10.6904])"
      ]
     },
     "execution_count": 6,
     "metadata": {},
     "output_type": "execute_result"
    }
   ],
   "source": [
    "y"
   ]
  },
  {
   "cell_type": "code",
   "execution_count": 7,
   "metadata": {
    "collapsed": false
   },
   "outputs": [
    {
     "data": {
      "text/plain": [
       "<matplotlib.collections.PathCollection at 0x7fbd5503c750>"
      ]
     },
     "execution_count": 7,
     "metadata": {},
     "output_type": "execute_result"
    },
    {
     "data": {
      "image/png": "[encoded data removed]",
      "text/plain": [
       "<matplotlib.figure.Figure at 0x7fbd7812cbd0>"
      ]
     },
     "metadata": {},
     "output_type": "display_data"
    }
   ],
   "source": [
    "plt.scatter(x,y)"
   ]
  },
  {
   "cell_type": "code",
   "execution_count": 8,
   "metadata": {
    "collapsed": true
   },
   "outputs": [],
   "source": [
    "def sse(y,y_pred): return ((y-y_pred)**2).sum()\n",
    "def loss(y,a,b,x): return sse(y, lin(a,b,x))\n",
    "def avg_loss(y,a,b,x): return np.sqrt(loss(y,a,b,x)/n)"
   ]
  },
  {
   "cell_type": "code",
   "execution_count": 9,
   "metadata": {
    "collapsed": false
   },
   "outputs": [
    {
     "data": {
      "text/plain": [
       "9.5596"
      ]
     },
     "execution_count": 9,
     "metadata": {},
     "output_type": "execute_result"
    }
   ],
   "source": [
    "a_guess=-1.\n",
    "b_guess=1.\n",
    "avg_loss(y, a_guess, b_guess, x)"
   ]
  },
  {
   "cell_type": "code",
   "execution_count": 10,
   "metadata": {
    "collapsed": true
   },
   "outputs": [],
   "source": [
    "lr=0.01\n",
    "# d[(y-(a*x+b))**2,b] = 2 (b + a x - y)      = 2 (y_pred - y)\n",
    "# d[(y-(a*x+b))**2,a] = 2 x (b + a x - y)    = x * dy/db"
   ]
  },
  {
   "cell_type": "code",
   "execution_count": 11,
   "metadata": {
    "collapsed": false
   },
   "outputs": [],
   "source": [
    "def upd():\n",
    "    global a_guess, b_guess\n",
    "    y_pred = lin(a_guess, b_guess, x)\n",
    "    dydb = 2 * (y_pred - y)\n",
    "    dyda = x*dydb\n",
    "    a_guess -= lr*dyda.mean()\n",
    "    b_guess -= lr*dydb.mean()"
   ]
  },
  {
   "cell_type": "markdown",
   "metadata": {},
   "source": [
    "Install ffmpeg before running the following cell  \n",
    "`sudo apt install ffmpeg`   \n",
    "You'll have to restart the kernel before the last cell wil work once installed  "
   ]
  },
  {
   "cell_type": "code",
   "execution_count": 12,
   "metadata": {
    "collapsed": false
   },
   "outputs": [
    {
     "data": {
      "text/html": [
       "<video width=\"500.0\" height=\"400.0\" controls autoplay loop>\n",
       "  <source type=\"video/mp4\" src=\"data:video/mp4;base64,AAAAHGZ0eXBNNFYgAAACAGlzb21pc28yYXZjMQAAAAhmcmVlAABYeW1kYXQAAAKuBgX//6rcRem9\n",
       "5tlIt5Ys2CDZI+7veDI2NCAtIGNvcmUgMTQ4IHIyNjQzIDVjNjU3MDQgLSBILjI2NC9NUEVHLTQg\n",
       "QVZDIGNvZGVjIC0gQ29weWxlZnQgMjAwMy0yMDE1IC0gaHR0cDovL3d3dy52aWRlb2xhbi5vcmcv\n",
       "eDI2NC5odG1sIC0gb3B0aW9uczogY2FiYWM9MSByZWY9MyBkZWJsb2NrPTE6MDowIGFuYWx5c2U9\n",
       "MHgzOjB4MTEzIG1lPWhleCBzdWJtZT03IHBzeT0xIHBzeV9yZD0xLjAwOjAuMDAgbWl4ZWRfcmVm\n",
       "PTEgbWVfcmFuZ2U9MTYgY2hyb21hX21lPTEgdHJlbGxpcz0xIDh4OGRjdD0xIGNxbT0wIGRlYWR6\n",
       "b25lPTIxLDExIGZhc3RfcHNraXA9MSBjaHJvbWFfcXBfb2Zmc2V0PS0yIHRocmVhZHM9NiBsb29r\n",
       "YWhlYWRfdGhyZWFkcz0xIHNsaWNlZF90aHJlYWRzPTAgbnI9MCBkZWNpbWF0ZT0xIGludGVybGFj\n",
       "ZWQ9MCBibHVyYXlfY29tcGF0PTAgY29uc3RyYWluZWRfaW50cmE9MCBiZnJhbWVzPTMgYl9weXJh\n",
       "bWlkPTIgYl9hZGFwdD0xIGJfYmlhcz0wIGRpcmVjdD0xIHdlaWdodGI9MSBvcGVuX2dvcD0wIHdl\n",
       "aWdodHA9MiBrZXlpbnQ9MjUwIGtleWludF9taW49MTAgc2NlbmVjdXQ9NDAgaW50cmFfcmVmcmVz\n",
       "aD0wIHJjX2xvb2thaGVhZD00MCByYz1jcmYgbWJ0cmVlPTEgY3JmPTIzLjAgcWNvbXA9MC42MCBx\n",
       "cG1pbj0wIHFwbWF4PTY5IHFwc3RlcD00IGlwX3JhdGlvPTEuNDAgYXE9MToxLjAwAIAAABL/ZYiE\n",
       "AD///vdonwKbWkN6gOSVxSXbT4H/q2dwfI/pAwAAAwAAAwAkAvzHv6EHQzQgAABRkkpUkmIiRmAh\n",
       "sP+ebxUt65SzxgV5BtAtfEw+/RTgAd48X43c8vDOKyJ16Rb4I57ikspKAdLwEk640y9hTBSnOt2G\n",
       "9BfCLxxHiE8R2vxbFfhlHsSYn/lgrj+csSHqPXWFIiuVSUakG23Sd4x/QuzaiGTNOsTcfHtp1c0F\n",
       "8d5p56QHO2NCvcPN3PdVxHR9zDztCTRMa1cvsz0Wia9wbxWyPEkl1uYb9aBB4/tU5poFCuvHShco\n",
       "3a7c7om17M/ZBYmhyGs/8BlPYlj+qRFYdaSTehJPmDjiNfYwYYgZ0OgKg0IAb4umbOLxknLQxTYF\n",
       "sSqVunUY+4X0GOrZsIi4nhgefZFUZzuxtJYaqN+zLpU7mwtjyb6nqWJAiTgPxV1llZ0kBl6id5mo\n",
       "A9/8l5+5eBgRhPqanzIWhiXlS4fjCKvL64NEn9DfqXGhLX6P/joX9XVqsAaRSecfWtb4QNGayaMw\n",
       "eHbpNVCE8fWdeD2JhNhKfx9ynuuvSBlvyz95nVr21+w22NEXoUpgf6ZaT+sHMAAac9U5VV4GjWHg\n",
       "a/6PSzTxMTuYcvF8e6bQETtrEKNh2ggZY4a1/miRN2FlA4ZEXObSfBkRTTvxJ+BFo6P6/C6u1NXk\n",
       "euZolvyfPmHOyPF2qALdxDOLOUcaIybePBwdi2Blr0e01xDlutm2HMyOxHbf8o1DrOPe4tSGkb/I\n",
       "/pUeVQ8xcElxo8sbTUIt4TPZVQktfpNt6oA4n30QGJyVtKQljViD8xh07oOCli9+6Fxya19gMyYw\n",
       "GiXwWeppz1ubLd0O99K/Fpr/PZwh1JNN59B81nNURRNYeIutpM19qgDxvOz9tZzcsvzURTX15yqD\n",
       "7DSeCIWh64gM9Jp4JFxbrRE6KJsEOrogxH2vSzF2zepl0+Hg3sCRhsNX7fYhxVXWu3QxsLE3XtKC\n",
       "eQ1GCi7COGvPHUXB/UtyltbGa7oNNVRUZPpDxdUvSn9kVIiH/OJIre/mUvo1zNUcWA4KwYPIw3wI\n",
       "0Nmy0GtIsLMxPjyAqZTz9LFSktNu02sCl4eRhzJ+48kqzLCLLeiueZwJmHjTxMmQqLaxIw+X61Xb\n",
       "UK+OsnQpVHEAsfqzUsjjSWCm0g9zq8/4rrJRXq/8RtaM12g8mHESE4Yknjg5aYTYjG0YYuQpwvbd\n",
       "lWKub5eFl9vjA/Vpu/Z7rUrMhy6HIornYMFZq+Atc+tLEZrdtFJGyEBgqQg6sMP9eAAuYMfVQvEh\n",
       "Wpi2UkII1j/+CuxC1rCSVybga4+z2ENFdEl+1oLDzvQGU2MK6SUxAdV/YmQkPwW/AA5JesjzuQZ7\n",
       "4tyZzoDep17Ms/dzr9ogsh34+dnX5UIwhb3fKvi/rJY2U7rg9CBnXTcQoE+FfsX4Z34FUtQQLPum\n",
       "N8r8sI8OwG+gG2QE1u7XUMrmOAIuJ5rE69NhGXMh0Zjh0YAooKlz9RMTSft84GL08XP4k+ZKdgLE\n",
       "bXHf5iv9FchGYiNY2QSHuPxv+fKqDWujE+Pw8oOjiPVa7A4qaXfaxxNGcMzccHBb+xDq0tQ/xiYg\n",
       "SrjcdPCzc6Y0qaLHG8wZ+9TJ4fG+UcZLRp/RewERjwPgdUAXKCfJg34oq3NcXaeMSxm8TPr8PrUJ\n",
       "6pM7lL/2A9scKJrFq3M2wKxd6juqz0tRIghbwQ0ea+SAFRjOPfaBBv55QR61BgSQ6WNfppMp6dN4\n",
       "aVH/A2smuVfiAUsekFahF6C4v7LK3RVW38h8OAtttWIcCTDeY2IUG5Onoi1o4QoxhKuL8dntp1c7\n",
       "9kTGR9o1N8pjomNyTnrGhjcvsJZKAwIiDd3HyO6E2p1ghcr8Ne6SUg4CjREqKN1efImfgnfeCuab\n",
       "hTe5uFIySLRQUhoG+s1eQ4eOtGGdbc+mlIgDdh9rEQc1DdbQgctWZaygzCpmaBz55/8n8xzf/jDQ\n",
       "cWq8PULqceJGG3QZ5sLOm995QEWH6G/zDeIPRiZ8FpPJfhHmV1xtSYxuUyZbRCSWLD7MRi8HGBEr\n",
       "kqob1S3e361kij6Fb4UsaX/fCN2xa+EdpLDSSgV+f0dVOxmvr17Ea/RPqJi0Guw2v56m+ozXmMK2\n",
       "837MEgtXznTYUEVJ2Xw322ekxeS74m9JZOkLX0Hs2klD6I9LNazEs9ef0PaEMSrHg4N4uhRfzqCu\n",
       "V5V9iVO24d1EY8glLiM46cOKWO5dDlBiBi0suHk8iydcyGBM78/6mSTJu2g+CUX6F3wwoRz4+jY7\n",
       "x2McNeeKNj95D4MQ9DFKgT1xnW+lkkQbFsdoHpytPHXU10fTqvREGWs6yNiiGkAZwDiZHk9JCxT4\n",
       "l33TVcOMBuuFXYYm8UrM5NIUBT3dQmhktHTHgJKzfhb6gtP5jQKgwJ4KsCQ2BvdgYEC0upIKFbiU\n",
       "zqZ3vpRemxl43JAqJpH6FUQDV9CMsn11f0D2krbacHA7EbpLZT37VLDOI5ww2GwdoMVZ5eMQk6Av\n",
       "ogjs7qhZyiGijmNJwbiYn2kASS+6LtBAVm3vOAGkRRzbmNt423XCRku9ewd25TFMYCHgT0LxjPu3\n",
       "30mYcDr5Q1QEjfeZy7eItO99S5vqPnAxXNpPFG0UvaDvaCaFQgelpEC2oAuwDorVJQYq8knSkEkm\n",
       "ULMXbjlBNPtHh051AoovfY4Mu2AfuNBjHq+o3PaO89AfHOIiiZ1dnb44wPFvlBmJBZcrVKWHWgII\n",
       "jrhkKHYl+2/cKobW3x7HED4Jd0ALVLRAq3/ldIeaMHnbdrcecHqhr3pf/8ztlxFwQL86ys8M2ZcN\n",
       "LPlM086PDVwTsVvHuFd98pfVdwpgw5v9iTC8sOaw16BZEyuydiC88laqRqu0ZAWgOb/oeZWLLPcB\n",
       "otmXE1Q7ziX6ZoSmYz8IAKgOQIZDDa4HNMfhEjXNO0+N7AsrbCc0uG0XMbS7gGPw52TF10oSKue6\n",
       "J4O7VQb9xFxI+a0R84WTtqtAW3mqAUOfMD6g9pdZMMGdYppGNxiS5RetV3/29pZXcDp2+KcQ5HHx\n",
       "FCSH5gwqisrU1Un37bdx37/85w/gA7ly0BOjNq/hJau4gaN5I8M/VWVGg1Av0Ad3zt5mYCuuq2V7\n",
       "pjiXAAFQ9DDr3nn1RIUVGjxcnX9DROWLR+TjpBP1o5nh1B9qRS6Tqkz+AMrsO3F6QeVCBK28Kx9O\n",
       "/0NLlYyZ5f3LjHFTmhJTbAJgMwmhL9cH3X/Go0tatN06fX+IJze8WZquRC2wfAAJS/gmhmj204n7\n",
       "60aGTbqV8LnJaG2XugbDuxEC72Et6FYLsohMr5/168v78lVtvziGV09NS0QpdTwAMNiJjVI9cNGl\n",
       "Q20E8z+nzIcF8ATVUwXnncxyDBsCzZTT0BNeExYpi9AQZOAUdn89vx0SRb56L9XlufxrAMmryBst\n",
       "d8bAp8CiLqWV2dmtGxy3herr5csgfkZffi7RA76J6dgEUxoxSy5AWPjBe71+xVAGM4R4AiQ7vJRZ\n",
       "lLS6xCn9ioPHJOcjw9TcQhVcc5tAxvZSn8h14dxeyFC3gVkecEYylG6zkWW61+CODNKAEkbXUQvO\n",
       "eHHpdN/V//+AdEa167rLYwN3/vmCecOzdaLb9BGXmRh/2ll72lIxIPg3kDqk/////ki6eCXc+vlt\n",
       "4E+7KwgPB+oyvEET9y23qh7aDF+qWNqFwi9I1xHcSpUyir9y/sETZqxrdZOd3oH4DMPaSq1oQVv2\n",
       "Z6BHx3EesUQMxHtPy0b1TezajKy28pc2Wq/qDEZ+WZfYXyZzbFU6ulobnUcqjnqJzZ4pWc1zVL0s\n",
       "hzQNjD4nTPoKRBmlIlElw1qcnNIHDZ37lsde3vdDgQ29Jtx7RDzq1Z9TYx+Fx5DKva4+hk+NqAaI\n",
       "3eeE7VfEp4OeLys0u2Abd6cSm/mO4fyh6HogAtIijoThQP1WmFsCCqhlsN6jjJhDgTvvs7VUMJM6\n",
       "3BpuPC8tZUDBZFhXDdOFLBgSy/SNccutipD7BR59BztJO09Bg2IFv5mKDT9gEfZ+FNnDUAcSqQ4K\n",
       "Hf8v528YDJtokp96P5XFh1GCW3ORtE5KXFCXZlHSUCLef7kXxgD6Zx6F6F7e7KpvW7OH53ENzMUu\n",
       "Aflc2keKsbROwen80oNF+x1bamQSJhxmQELBfFxsUGgTgal0sganAjivAPeJcxEaE/AhRnxjOTWa\n",
       "p5aTQQ4GsMF7I8BmqcQgShyWn4qaeSWTQtOLNLUHvX7nXXe/ig1ugNmf0BJmURq2xA04ososrd5l\n",
       "+1C/kzUj++HVRflVXchZXYNKv9XvGoHvXZMLvdYIBQwvjea4wBD995vuuBHCC3chu2DtsrmPgLAs\n",
       "Ui5ZxmwcEyf10L1pRB73RgMzC6JWuP8o1f+3nuUFKeemdlbXbsU9xWA03eDc8busrDzMZtcMhaJ6\n",
       "5FojcsfqqsHKwr68Bnq6Xt9BXrI7Wk3Rk9mF2vZvnXoUK33i6/rdS40vne2FsSzf7epoBMRh6soR\n",
       "2ACUb1m3gLVsgBy2+SlgjckV34fRt9sWjmjRisaXPhtBRyNJAkj/iZgq3O/wbvO9khtIgpooSkGM\n",
       "pRj/7CkydOaSrO0pXjQml+XAzTGBtpLyGluI/aO6/X5I7irw0IM9WRkDHaTJPef/+eKaFybSqG8c\n",
       "kl7fUPDtynYJaz0OmrMZ5Awxxn54JMjqa292wsR5RknN+Kfcav93+F8taG4xLcxEj3cxa2gk+gSF\n",
       "g2jn9FRu7OcCCKtDI1nUfzBSDXKcZtxkOIHXEUp/9dD075WwQ9iSs65t9K+7RFc7WGwoeFw4xMNy\n",
       "2DuNnNclfJN2UNy68gj6YQ3WdomQM32Nyav6nnKwfXj+1YJvsqjdjcFN0IvqBp5JDtzzjou1b9Nf\n",
       "UGX+y77werpXBiaWVWxiUNqG7FIUZ4RphEkn6rZoskVKF4bPA15vZBOEaZUqIC1INJlHlnmqqqZX\n",
       "yq8JME14vvwA0b7q6R5vB74dUmKVm+duUWBp+kORs2eAwEAtLmrc0vUemOJ61H5Ce22emS47G8YJ\n",
       "nvrphHjMR2jO4gTUWdrwsgZCWlHvNeQNcX2PPnmS18NTB2UP+g8iiJK1wfhTmxvia+3sZH8Kr+wt\n",
       "/54+lqVKrByfxS4qOQALgYuV0n+6DjHMSEyu4SvioVg6Gy9glpX8wsn7xL5hW7wUdVYleGnSJn2Z\n",
       "9RV0R/8Payb0ueObiJt78mjy2sTb7lHk4kt4CkES586/uBT0zxbVUe8vn4mopCZRnmF8KIN+0Z75\n",
       "MOZjIG2ILB+itwDZtBdc28RT2RAI20rXqwnCzEztrdCJ5kNUTRkzOGoZC+XbFHLo0XoYaiOJfc2m\n",
       "TRbxNVr1Ty9AMxQsK/FT4ncJllY7L4R/8dro2rdMFbpo5cswPpQzDTHDUFotptRoBPKOw+0NLdjF\n",
       "gxQml8O/JIxXv0Mv/kaKAlSGRGdb56ThwcsqrzUgME9ffpBvFlN+9LTXw8U+13WblF+rHN8EEEbE\n",
       "8+UeFSbH6IqCp0rlqw0hSRnPUyJpD6E9pq8BSYHv8OuaBdcfBoPnEnniWj9Qga1r1frX2kHt+0Cn\n",
       "3xNphYw0wFCw4zxRvb2SzwiuxnDXSToasUbinPVfvwrmIn72ZtnYGoGXdzA9XCNddkRL+huIB/5e\n",
       "c3EENOB2cJY61G1M4CS7lzr4kaWm6MhOuTsg/pPZHh5KMjl9HmBTrL0e6DpDD9doz6v2PsRr3wx8\n",
       "Naj/mxJFZL7bTJDlI0fot8JWjUXAq90errvdWJKAiTL+OPsMdOCl4CMd/5UCwmnpbx3tt/S5OkNe\n",
       "N5xQdXufpXizJTcwYCcmsOzdcgtq11y04PcWX1NIjWfN4y8IppR/dV+qKFtaXED5TIEy0uU6wO+h\n",
       "18gscnmz6QAl4QUD5346o8vBxhvshbUH2rF5Kp9ZuQj7BL3FLfWNKsjiZ44Y8da4alv5blvle9wG\n",
       "GiyLVvXGxEd2QTvJa4wL3IHa5gs2woZGW0ZAePce39emMSzDzzGRsnKtQlkyF0i7TGLVEVEKA0i4\n",
       "v80teFs5Qtl/wfMf4DbZed/ai1TNInltQFXS/zwKS07ZM1giPU2KLGcAZRGX436LCCHIAr1gtESC\n",
       "KlytGCQ1FUAepjPiI2qQ00yQMaREc7V7NwMNmR3sKz3xjwZXmdBTta6E2w4M8iHsJAuRRqDOA87b\n",
       "pfLw3NgEkkUPswVu7FdSpRPJE+Jhwq+s7Vn6G+Pze+gR5CdTrMvd7/6xNnatWi+ELC/2jt9lRKOY\n",
       "sjy3nZ5cKIJC6KoxbP++gIHiVZnbbhrzfoUJ2fNmkG39e0oXD399TYuwS8SR1eB99VXIOtF0EKt2\n",
       "SqajuvpUiz+sWpbUWBPsCm0rLCf3QR7om1/Uxikg9g31FLSZcc0klx7yo2fQ3odsusKCjZ0jPz5F\n",
       "hiWUrykMxCWCb/amSuDQA4rVF8sDb+FDSL6PtAc5+ytPBo7unMzkZrjyZJk0KlLMdG7X6AAAQRNg\n",
       "IQOiFMatLD0olmqYAHHBAAADB0GaIWxD//6plgB3V8vAQSqTtgoV737KfZDrV9dZf2/1Sv1FGLcZ\n",
       "NOgANOCl+MNvTBiOiJlY+7/FbhavY8sJxWKh05JIno6j4oo+SB6M9fr/goE9MIElKXLsbwftxfiB\n",
       "nDplCg8l+jRJSMpQWDrVFF4h9CORXxMjtrAMX6CSTGWZRUUm/KyT2P+nTTOAYNjlW62AeU4KyhWR\n",
       "RqXsTjav5JAia9j0nhVS/W2MiGsRKt0IYYNP1btVQMRw7YC+mu7yQDBf6qsxMcepbm64foH35FqQ\n",
       "f9xCFSfvozAyWwHN2NFuqv9eCrfddmHjV7fcrfx7THrvVRXMu6whejZBo81YMgVurkjDTAmPmWUV\n",
       "TvASIGj1p1ttoVYuE/NpU+bm34ICYi004IqNxvTmvOpQuTzDRaaFsm0ytwmOsO3IvaEZOd096yCo\n",
       "t1yihRccpMZFQaCaEUBlPRRqj9sdh53yBuDiwx4vAJWPUjXuJah2BhllxnHDppVccw4ZNn9lcIBb\n",
       "cbo1BP7VSs+N6PoytFXGVrMMTAYpcy4zTashxTkWqghqYW3lp/6EF7NhmFoScwYS9if5mu0mYFO3\n",
       "RGubA3G0BwrTrQGTR0y82ZsH6atcWu9h/Mm4ADMTDx1Bosj8FH/okS6wri3xNPBOGkT9gFZSiqwK\n",
       "Fcnpe+U2M9AiroHZSyJ7ffWN8l7w/g8T0ig1brCwsPxBYKW2OSH4z1EkDX8jQ5xAS0cKm27rbIFB\n",
       "dWeMD7w8xZ3F+4rZFrfg04ciwbMNTsPIGUp9NxXrzS3THkfT7SdcXU9RMq/Xxbk7TMIqRzSCaeM6\n",
       "pGO4qVhQnRkLbBZC/gKMjVJVC68IMDYMF3yaLA8UXbe47A99LE6xE0XGkK/8r+yS/70usOe4sXmV\n",
       "uDiHtAmrvvfqwVOPeEc820L/c6tadVEaW4fl7i6kCrhtNA023dA/Lj5h5nxrrCQW+XEBfjCEb9AA\n",
       "NfK0h7VP8WLsJEASaAP/M1MfkDlDH0XxuZtgujO1rnebd8ZzmwZ9w4oGKNBVECZYOQ4kwhIAAAPd\n",
       "QZpCPCGTKYQ///6plgAAK3zmwD49ltB7oksX/uOuUmV6MD7nYlk+t76zOGNC13cHbvUzjjlAhY0u\n",
       "rT1ZcQJ5ihZ87oTcdri7vlDtiI4pnzKW6ccnIhRP+YVGEbGwKt3P815NW8jqK0p89mKZd30CRY3u\n",
       "ESvXntdWPzrqQ43wsxojNOQ7tGzTQvisH7APl3i1adO0BfkBJSOeKhYJtT7kbiKz9RR47/KFgolT\n",
       "YZKJSjDcHIpG6d6t5vkHtunRYfJFFF37mAq6zW/q+VZ/zyhjqQmOTW2+TgAET6SM39Y/ePdKYOzT\n",
       "ijKySNr8UyLi9eTWHSjngiufvy6WIzhwVef9vFI7mAQdNaEMYfCseHU/1UDerDSEPkVZTTdDIe5Z\n",
       "qzdQ1T02vl0eVobyU7GzQTW0nnppBFNXfi2hUakuQ/v2EurIB9syal+BVjK93Z78QEVI6N6+vwyS\n",
       "8o7EmIGzO0ho9ks3M/7KfdMEHyQJjS/x3rCAa01VIByLCO4A8DRQZGvhmfumFIBa2zIlOCLKmfiY\n",
       "mBoSVg/LQpXq6XPPHG7gahPrss1CTsWrNvETxBA3xid/ePTiY7p+PIjNIkqmWqhHjZDX209F1ni7\n",
       "6tJNG/zFYU72k/y7WjY03LqsiPG9QZ2dQ6W7OYPbEzDjC9IoImKvQ1x84hkDHVAcsaEL7ecdlB3j\n",
       "5vZruc1p0CkiwpUySfDL+oAyoqJGnfCBXwtb9j4ueMwZOm1NQ763MH2hN3BkkffaD6VraPx3+EEH\n",
       "pQhO2ylFsUhu7Ums/J5Cu8IsgmqJknJmhUCA8JlMVgefZ7RbrhSHmFRx/HYhYRr4L3tANyAV4gdF\n",
       "dOYMObMA8urVqD3vrYZn0FpY+ClXL6qaqdtyjm0YVGEhqoIxvbfz2lIzSSzt0hCKMdJeKHl1drbq\n",
       "alZP1kJoiWPXZTitFZ157BD0Ob97jB+ATAJbSZAzQyr6LRtoHamwLvXbX48NAZ+fbWXg17srxWLQ\n",
       "bZKauC0DIOTGHmULlZ7I6p1MqGOUQ5I90jopwvf5eFUN5ArvOxF6TybLKVqZ0y7zrNpdE+4ETEJg\n",
       "+joU65X2moeOof979FNwHgte1gdtHBOwrG2BlYCdZCnT+SKRpoTEesjowI9pEJdQ7eOIw5sy9xqH\n",
       "t5yMKo7jCZmOmhWB6pxl+QZKjCQjoi5tGhyETZmI/9Wzjcf3HnkqkqFBpYQejrEmFCgUO6cM5nhg\n",
       "ZWAurJy4gJLGXATndRYlTFdVJkcYtoNsA5bikij0hdnImkJ/LvJJVBZuYiFsXL+pzwYQ16QPzzUd\n",
       "UPqs75TAFPvS0AEIntqaoBc9tVEAAANyQZpjSeEPJlMCCH/+qlUAADPUJvABO3y3/1wZVB90XBmh\n",
       "Q75cVZ+esUxf+bjL4apBZnJf7I4/MBsj2H3tFc2PDp7W/M/cMgg1Zzccuk+wYBH4UzgoGfIecikI\n",
       "0/irxhgJTyh878KEVPEYfqtqSWsU8qj1H5rKgqv6jmnGfIIZed4xELRbKiuqKbUQn6tKV73LjUGS\n",
       "N4Az1sX/rWDLItfwMBf28Xu7Lsrw8KhDAdFWkTQK3rYxHInL+UydzALS5nGfgVSXQQcxcuyKdXwS\n",
       "k0xq3q+BzMLA+LL/6p/WY5CdTHQI6CqFDMdpApnBI5YQhxdj9b1fW52nAWAyClVynFofsqXi+inm\n",
       "Rtff3HdJPvysZu6dN57v6o+2RnPV8q8tUyX5WwGT2H6f6qyqNFLvlv2dQsifPqWqk0LCrfd1P8tX\n",
       "WGKEazli8vV5y/H5tWW3jLH9kCMhbsYCHU/qlps7vYj7+JxQWXnq8nFHJLz4zlMw3dhnipHnzV+P\n",
       "srKCmAejlLrB+Eg5TE7JUGIdJORsUVY0ySGmTN1Z2EYVfelLJwOOdc5ijU+tVC30CRt9M5AEklai\n",
       "VzB3QPmlMsQG/z1RFgnm2CYjqYoTvUnPxOSQ1+opOTnAOwgzNFfYabCAeHOTlQ8IojrLBt9MhDeK\n",
       "4XLauDM0pNmbAtNxieOy/yxDwVAiX8oFRjyucMJ+xDgtaIJszSr1bbbbeSbw/DsOKm7209q2PNT5\n",
       "i/EU+C1JmYa3L3MgcRTZ8iIF1hr+/fovAWOJJ7G90sFFZvtmib/CIDnXI0MCqej5cBooL4fclWM1\n",
       "n/pHrXN1zS+HP3qF59zn9n8ghsv2VMfb7Qh/M6a2YTmLwpGK7jQ8x+d6kJFBkI7b6/xmFyIBSGBH\n",
       "dzgDaAyC1hVhq0XisU/FuD8jU+ltL7DIfqg/P6IxZmAFb5tWTmqjkAL3MvX2LEXi46zCWXczPDkM\n",
       "3RUj84Iqo9ZGwpfR1woO9PUnzEyPwzvso5q3Mn7kMW/hcjzItOhq9TR1BU9uXXA4xPU2TjLkC8pg\n",
       "Zxt41OfG+2f4dkvfGWlqbyFC57qJb4Bz8egmDVdDBhMw98Asky4o/JerbRhkYmKZwBnMUGLa1O49\n",
       "XD5/ViEs2boonpZVqIcTqasXsj/0oLKu21L54FOlHj3DBTu83DqQfiYJXiAAADnNUIeAAAAC5kGa\n",
       "hEnhDyZTAgh//qpVAAB3TwQhpBfbHeWK0eF7+4dYRgOzRi0ioFnUxgQeRD7HKaP6WCcTxn+O52LI\n",
       "/phFwVU0Qnc/MkzeDt1SeXIx5wfIzNEn05BtxCkSW/6CdYISGKmKsBbxW/i+drO8j3/hJt0XkjJB\n",
       "HsPgKX2zig/i7NHrxtu0Sg+yCvsHKruCZtranqWDJovA8CcZDG6vmIF6R2rMozjJwFlOlIdRUGOZ\n",
       "b/IdMVVLfbJN4/UT7MU7pF3DWU8hQ/pWNmwJCjn43+EcCPY5zyo7nDGY8r6GakncU+CSlPDsZ/O0\n",
       "TD5djHw8prr28oU14sc3ZGIH5SR7CDcD/vEjevAqbRVXyDTwP2DcCLssz3sk7EIyzk5tzRcRlxA8\n",
       "ifJ1pOd8cIbrzq7nRXpLRpPLEAdQxzuin6Q7xX/s7ZaRzxCCdeY7z0ZWoKLz5vMFJUs5HHy1wDZz\n",
       "sPQqqvWG/a9/JNQ7wRrHytZJ+QylsBGlSx16ZeW+KSJzXjggeOrPNZL8YMJTarMb2IXi/NmrJRbh\n",
       "nmMCcUSJDK4Q5qbjg8jxehjGFMdR06gAweHuTanY56cdEN8Qbw00l+exZ5DQ6TZ1FpxFqb1+Xdfd\n",
       "mKS4kGmtZnKK9RGSp2gUojZoXakUt9Vqy7X7sfhN3gOd7XnH8/dtD91wGsmlulo4QLIO4xXEt6B8\n",
       "EcsSnVzX8TMNQTV6OZq1UOw4n4FoC7CdI/uA/Kc7If0t0GGv9meVF9sS9jUuoDqpIxPSdWXgkM1Q\n",
       "ftzBU7dcYr+qmUD5IEOms2pwM/dIW3FaBvbisa4+txsqZ/Ar0XXyjAjDs0+QaXtD/34c4nzZjO9/\n",
       "PTsgY3BJ1EYDSwXshCZZKI8Lj71p+ga4b5sIFxcG2ScYpIU7ogXZqlK1ZFyfMqR58SKn5C4wh5vQ\n",
       "Adtdj1qxHc+ZnOoZ0/WynYdGqju799R8YH9cF9WkhHpcZ21O2Yddk2yrfTCSTZAH6Nqr3N4KJmEA\n",
       "AALUQZqlSeEPJlMCCH/+qlUAAQg/+oAJ2+W/+uDKoPui4M0KHfPCUJts7FMX/p+QiLzDwW+1Q+Lu\n",
       "ldcj2bWrj8xPUQe9R6gVk2FGGNP8f4qGBYo0qJ8o3Df+zwOlWEMoxv28Lk0UmHhx2DZ/0yrJ/REv\n",
       "IM5tHqV6MkIuoZQHYtf28vEOSLD5BcLkv8sYB0vKvItin/bZnrg5iHw+Mzv602u95/0xYbhIpqDK\n",
       "RIRW7P4x/v7cgshfCnZzgdXEhoxDqGbsTty2rzikELpeShaNa8u4uGxfDjwYwcL3OlcTjpNDwtGt\n",
       "mFXwGqIpE0NtScVc3ABbflWkBUp9Tx6CJHs/YRi7LphMZQiZbAINGi2Jk5iHenu6PU40xwZPDtGB\n",
       "wL/TGwwSudw1o3vTR5AT9vfRRrfzsWCPtDRYyOmRYUIVHhgBIq7rA7pihQoFBAhxGhLS/kftXO7F\n",
       "yvbu3aQlA7RR2i9RDC0PCV/RC5kcqgFRam/SHDMyh93CeEy2PacBw/ATke6zwYR5hqVWeS/2kWMw\n",
       "pZTFAQ8oHJOPHXr7rkDZniOCE5uNgEkEqrH/dB7qlwjXeYpMmXxrElfF8p5IlNnsqfRSvslH1pSn\n",
       "2t/41JbPshW2oakXqBMO+YwmPo1B6HPJHSPtLVianv+U6tKi/XuicxNQgs6dIXJLf+8n3fNkgubD\n",
       "PPKs9GJtBLligRWgNdrTsmxy2IrkoeUNF1+pZqbtQ09mCx8PT9OU/Z4eS2hlcJrq6DbyoSsGLjnB\n",
       "xmGM+BOAe3CtIs99TrSzRAW7ffP9DFM0jjTqHbV5jrOA9nhxq8Vik27YBQbJT2auo2V8/KOK07xr\n",
       "7BuLxqv/1920AApagR/q06OsAmxWW9Zcq+PfX8cCfLaOSuC5DVT3z+O8z/BFKlKPBkFj7/7qNswv\n",
       "AJd+xfdskYShZTnGzn/pr7qxvQp/WvlcbtSnRg2gJWExKEwSxTOAYqEoIQAAAvlBmsZJ4Q8mUwII\n",
       "//61KoABKG1GHcKwNShQ7lmnD+H0KqgAvr6Vlio3G2xzEFZ22vhuxybImu2IlkaRl/zR+vMy7p/J\n",
       "HmVMvK6jwIDyANVx1v5ZmrHZlqOJnJfyfSnQPdtX69utfoSt4zZYlzUE1y4tY0mO2DswtYH78JOI\n",
       "VpIATlxaGEJ5OmvR02Df4Qxh39d6W/2qHIgbq6Y9v/JQ3FltBApqh2PL/B+fQ3oIiQcWU34BJf/h\n",
       "yqBp0AV0XUqsdYl7Bd1XseTc03TDkCWaYcxIUXqbcurw+Vyqg2pBmnsi0ZqUlAINNwUxeH/0VIUp\n",
       "CCD94S6sTwH71vUjciwI2teUGEYUqvRQ4F7VaBdZ5N1wcvp3SaCLLT5OuIzRxvHYvnSayjFQPO0M\n",
       "8IKP+mtV7M0qUeXQvHssmv9TaOyD2tyfIXb9g4PuRZjpdeiNAvag4idpeu3WmToUcpe0nRhljKZC\n",
       "dS2gcSBYQEI0KcoseqW28pnPbgwSfspU5TkeDBeIOVO4adSQnB0QzvjnTc59G43q6XdfYW1mOOPr\n",
       "VSB/KQ0o+ajF9f5E8Vc+N10ibTDLM2j8qbURQ0rbTkCN7zWUUwjiHpVeSwRr1vJCuGq7R70+ejCK\n",
       "MK3SwNOBN8ipdbf7dAtaSW9YpZ9lx1Oa5kl4X2lBkTaa+cg5xs5hbYS8tUjdAPgYofWQ6r0gejos\n",
       "kbisztdGpHtpme4Q3iAUL+GNIzL7UfH6lHEgc9q+hBnSZ/pFrUXUT1OTkUGaaAOgmHhLae7zlMH8\n",
       "2Q5OissN84W0aLCwoc06JrQEfwUqrxaXDnbqmO4Bz+qo3itJPfENsU6AyjSqTwk0ZUoavM6Pa1Ls\n",
       "jz0kjVL57RD0crfZ6rpy1/ipNe2szzdEeXBeQmJZK1WeNWSwNnCtbuZ5bZ/3DfsH218xDUAELtLO\n",
       "uF+T/2dn91QiGimRA4j5E/OQ3sNgmF1dJW+YCRB55ru0FwbyGHIih6QL4ipwIlqgox8uvVaL+rjK\n",
       "DpU6q8o5ucIeEQAABSlBmupJ4Q8mUwII//61KoACpguQgAqNQ2/8Hh41/gC4vF3Oatra3QG2bUHA\n",
       "cPb3IzRMcr2qwhZVtR7Mu5aUDPL0nZt7un4kkpOeL5r1gzW3NJwYB9rRIloO8GCvXjZvWamCyIsB\n",
       "olnLlRFUebxPKdUgIOcbOuJJSwSg6Eh0suuVeSn/SFoyfqJY+hHm1r8T0Af3p/wArjTkKJaJmc1l\n",
       "d7wEsAgih7UeEDX9AwEsE7m3JAc5U+U3WLZ7W186j5Wj29nLrPn+qpVpsCmN2pTYzN39NDrsZr/z\n",
       "cflkJ+6g2kRjzg7W1t0mFs30S0IUlkw3KefrEKFeKEYV3rdWdpLTmRxnih/0Ph5Am3ytLNB8wQxl\n",
       "BNAZteCyUd6oJdq9xzFSI+x9B/EnK+WMkzaKMD6A8w+mM6jXceIORtxqIi6bmlNFYemkIBCABCDG\n",
       "L4ih4LnZYmBiDCPxK4Mut3EnTO6mujnw06af8YZv0psas76GLnTvlnZkdM6HvUIAXFHOvtRP2Q5m\n",
       "xdmHjE4cnkcihrdm2UO/WuKZ2mnTeAMUSCp9z3jX5V+6WCxoBOHGlnikd1JZFhbDkcUyOOxV12Cm\n",
       "EhnJCYb2ERFlBwf44cayEjJUu2tXy/8pphty3KxjA/8rTdSmLWCpk7dBEpKYTFNDbwA+Y1LAIvjJ\n",
       "JRnO3+ZffGL8plqK7QXxdYyyhOFNvp2wSFUiWMKWCP8/tmeNi0DV9bXLiSlGoPeSXalMb3M7idGC\n",
       "N6d9kNqhymhCS5u86+NhCHvYQ+FPG+o7T0vmBU7yeLab+9CTIfFyADAlo9xFFSSc3+GvtMo4as1A\n",
       "o/zdVPd8F+ox8+/sijxcOtkM24GjP8bBlbdhv5oQIgUezM6aO/uWpaWmqOFwnvLnYUFRq+dzcGf7\n",
       "yXw3xf6tAHWFy4eM30NPGNl6SH0Sefy8rVPyIVkqh8iJAgJz7K+sXALWu5CL1p/s7R2FybQnJ79Z\n",
       "9Gret2KxrKML+gdNR4TvhsVKOZgDPPfyrJihzzqXxEJCa100a6Vv/alHlRir5fGSghIV9G01IQ0J\n",
       "2d9rgvRLkZcA6jwcuV5SOKUyJdB4gRvqqRJu1KLYrMV+OX0uBeZL40WpNLVEUYF/VXFo6AF924z3\n",
       "VhT59rkAjtKm/VnfKDWEfAuqcBEssCAi426LuwTjsxDLsei1BG0rkX2/8sDxRU+2WgCbjgB/P2v2\n",
       "AaHeFNA/SLN/VJ8MA0PfjL+T/gwrM3v0THj+UQfMNPRqms3nzDJr9T7AZC6OIVc0DZrdmZIZHrMQ\n",
       "FVajyhou+iT3wKBVnNmwgSj2a1o2IjOX1nFkk3XDz4smVxV9k9hrOp/LNibh0Bz1Ej+07iBWkd9f\n",
       "ngDy8iA/VD5Vn0jkx/wZ6z8EUkj8AdDwgbnvVm5b/6i2Ksoi7o+ICoS+6zV1fXAy6uN2ABGxxYej\n",
       "Y+KyWKn7y+4gyYTMKKVyCEOiE9emIHaEOWm52X1GC3eDHk92VD39Ey/bbOUg5uqFQA44N3SNFUj+\n",
       "LJkTqKPbNoChClbM+EifKiqW3HlUGosLL0XUUv3jfCNrZyo7AqSvUiF1A4yy7NdP5Wj16Jd3sSnr\n",
       "ledD+Cj15O+qR4F0pJTRXrryPGyn2qFYLxrNTV0tV0obNixnJmV8TUGFM10Faa9kXlzMjoEQwNVJ\n",
       "O7lZtYUblCvCdJ+5PCZFgadrKuKJXdE8nJ9sdFxGD0Au9fav4yTx8OQhpfpmvN6s2mtPV2lg7BFp\n",
       "6bucjxGtGcq/LC/Ljg5iVgSGHhtFA8GzAAAB+UGfCEURPDv/AAtWMINS84x0AF9e+gWThcCBn6uu\n",
       "M3l2sMxtggvPZCVsukB0/gfIkNtt+jNBUVXF1/1U+wHSTX5ZLy6jsM0U1OYf06vKLKlJArVc3xIE\n",
       "8NFnuXTXBF3SjlykCXGnm168KHjFVqO4UdbbOjgCjWw06h2a1MQMYY9oVWXLFW6bNtkCK5p/dOs9\n",
       "McT2R2ugqCYYAvRpWCj5xtTimo8k7iWUnjcTfrmCChCh4b9Oi4i6XeHgMn8hd/gmIatQ741NH/tz\n",
       "ZPGZLoaT7a/80imc7Tg5fLrx/GAxGrGdxe0rOJ1++JYAmgXzKIB4u584LFD/0TdxXNr3jjvN8CS6\n",
       "PUZvm9+lP/G0A+1/wpDj6+nsfX2MWmhqxMUkmuyjrBJqQnZ6UXyZONdHgFVjrvvbjnpD3NRO3YLf\n",
       "eWlAZZQ3YzsiDPoPQgYB/EDd93ZY3YPHEg1awYmgHaklWSCgXfdIK/hFU+tON+F5zngbATV1xYMH\n",
       "duVMP/MGhLyI4gtYS3wBIKh7WJXXzqLAGgY2wIBJJJ27Q/M8SK1gVmvTtC5Tcq3UwbV8B+RYDi3n\n",
       "EE4Gq3BgQX+0+nndDUTY5rI3AbhyDyXr/jTYtQhPeT6jj4gcN6BJCBoYGPsxH7KyA4a/3gMZbdhu\n",
       "OJiFmD8nqcPsYAzlUQmM3GY65eAAAADsAZ8ndEN/AA/en/t5fKjvHYc3wZJ7+k2BSH280hs+Y9G4\n",
       "gAhw780LZeyMuTKdoWrPYAKs0frgdWw5JkgSYv15/RQsuYlj5v/JBBg6d6CAQxa81zQtYJByGINW\n",
       "MRVYUYEugNWfp4Z/pvAN/gPuZkXNyQkkkIchN1Y+OhV9i0TjNivBm+2wgvqIB7OLr/NuEB8dYMgN\n",
       "29t2FwY5iTWeSqNDa39Dpj0kWstk/MBzF6JCYBMTktXlrQAeIN4jY0Mx7bvhEcqMKpqT2pY7MFZx\n",
       "Rd+QDvqBbJ908nZ4z+9q8GnR4kEw9Ti0/xwAPQlMHzAAAAFJAZ8pakN/AA/hRgzerssQaqwAbKB1\n",
       "/LG7myxtYvsbvaoOeN654VB2tW7rJLeSAYS0QAiBEC4AQWi0DuLPjqIlTt8Z1vRSFinWLNUtTlRm\n",
       "O9UFhmKClpAnesA5kbfI470MnRkkV0NGPR3GW+CtuiFkuVg3EUzwx15k2OuM1eVFzze3Ag228JNS\n",
       "cy/L3WWgqgUeQqFnc4XY7i7E8x3Tc22P1byTCBrhWWmXxNI/+nCAJudPa9dD77i1qfS1CnclG6RB\n",
       "JtqqH+55j41gsWAdwEzGzJcSp+MiM03MhHeU7ECeiYBsfm0pUh96sq7knXsl0JgG1sRhdofIHIIx\n",
       "nnvxj1QViXMS0TJdb+tXMcOvc3LFf9GLi5IzX8HMHhSPrTQ6HGefu0hKuz4ZxOj2/ppGXv8k65M5\n",
       "TNI3kd7PFUJ70/CXJyJ0WXoAHvZzOI8AAASxQZsuSahBaJlMCCP//rUqgALKT9IAF0n00mXJJcC9\n",
       "KLXIMlTztwN0CS2W9rC4j3ph+69a2v9yEpgvkqJOaJ/4KwY3ab9LZETO99Prq3aWAEf5HnSOvp0e\n",
       "GUvopgyJOJW0xF7wxmS6AuTQOAx27v2fnkdk/SKGNTyxCbHrWV0r9IK2fUJ2EHyNdOZGrGtxli1x\n",
       "EmNoAeSpSIehu9ZgWkRVUHQhBPQzKoK6QeKvOsL8uExdbx35r2roRTGND8UnYe6hx/QQHcEznMXw\n",
       "GVciE4xRwvhlhJTB1Z4engYA6AJ0rF4VfUH9kkMUHsR8a9NfYImv9GEK23kZ5XTcDENpO9ZK9kTK\n",
       "6JURV+h/9tmlGQi1J0ENdWRggL+ugNsSJGf5+jMrpRikt5Vah4cYsGA5HRODHL0Fd0rv3VbegUnD\n",
       "zkvI2HIMiHcKy4rCJxKzzZBIA1tu6HT8U0Eda2EU17kwwAwCuLyokLEPwYPzMYtaQc3tQ5ri0HQ0\n",
       "SMVzIJ6mPSGwmFbtjDxdPUDXRnavCEM59UNbJF2pKutUa0XeYb7guMOOB81dDHpkP94BX7/xnJd6\n",
       "yPgtviCkvTJaWaEr3s1Z7J1QfPQCQr/c0hcE413HSaSUKbahyvM6hOf1+5E5NTTvgi1HoRE2LLig\n",
       "gutBZ8TPbWcvWdmMnzVxdz6GkFRnNHks452+GtmYV6su9usU4puL/+KPclKBURokHfGDqfY4V1Y8\n",
       "2lauMvn8c+HIj2g+NMOqi1f8sv0MwUu9+cc/ndg7aanoOoQCcZR9BMZCKiycJeqsnrL+dlXmjly4\n",
       "zJ5V8344EEvvQ3zb18BqSfoVxMDKk3LqbLQfTwzSwwcDMzXpIbfQfSqedvt7toDpo6WHLD4G11md\n",
       "tt66QPBbtQxNA+IPDVotXA8jU7ObFqjFxQeDiwIy88KuEAUD2b6XWY0+QbtWAY8tvQ2SQ7QNs21o\n",
       "jVsb8GDpzntyJFQvDj7yu+42nm7PlpVVvsvBI9JhNj6KErEoqUYu+1VVO/qKnbQNgpMRzdncrVMA\n",
       "tecWJVGmr6XI7Zr/LDwMiLzfhop09abMPbVeemuTyncTKpp14zgfYjTeSusaMEYHHMoaNFQpy+Ln\n",
       "G7qbfFPbJvd2OFNhzBcbo7gzEFUxqQBI+vVibv6vT5OpT4yv4VXwnarBlEz5qkNwvbSwpZ4ep+Z1\n",
       "wMRn3dwwwOEJqm6I5qzIwuwD5D6x772xDmDO18BhsQritHT4/xKjDcTe68XfgihRxk8Wji9quIE7\n",
       "pmPGsM5uchjOPg0JULDJj43Mgm+WkJcEqddC/Wyf+Zb7rIusNQhipmmc2fclQRZEcsV5UDuVCbJK\n",
       "QFuSM9Qi/Z+A7oVvzNqqEQV87/dHGU8NwynalQWqFuUcmMB7lQhbQNWeAGTmDChXEYB+11hPczXF\n",
       "NpvLYIyMD94ZezJNznrl4lSM2AGKgeara20z/qQiTuZAXs8im/rpT4/6IqouhoB78ONWBQuqf7VM\n",
       "KSBnjq4Fn4omCncR9CISUWBAOhM3zVroJKX6b8Gr+xTjoGQtsYB9r7mVeBKKnKtwqWoph/QvO2Ww\n",
       "E7VBWgN4SBt5eRV60ryd003NS25WwqAaAAADAd1SpgAAAoBBn0xFESw7/wALc4ZoxRPEYAL5rpK4\n",
       "BH5VCa4rGM4pU+Sz0EaMU/Yk2m/vnuarRU4UYSJdamFnkPeWGnDJmtBwPshdAuR1SNGtN7EG9/ps\n",
       "MEENzeHu+kfkDCQC2GzXo+HU9VbBujamfeI5y6yXssGkjBHO2cKtF0H1pbNoHonVpZ77VkXhoM6l\n",
       "BrwW/FaaO7i6HnLKm2q39bT2WwtscujLFi4JlTdSdCfag8iCMNtQTVlcTQTh03VbaAAIPfPKG/YM\n",
       "oMFnzUS0mTvqJpGzPQV/ZDQGIVoidtIcf0pwtmHmumtG6luxA7iuboeN/U50nXeDyVj9xvSvyhyz\n",
       "aZZlc/eGcF+V5BWI7d80csm/GPnEQ+PcCrXNo5AeqPwRnl5loDcNM72t+33YDs408R//Zvzmu38S\n",
       "3/dbbeqSPWFZn134Wj6uHUV8LN5zyw4vacSMwQpYuYryEp2jJqLsIXtFOrfiW1SxEH+ryQPG/HhU\n",
       "zgrc8NL6nZKji6/3L5cMyEallOf4LnCqqd/bm6tlb3m/mLYibTHNCoJVMSBR25Kz2266aIc7LC8V\n",
       "pg6/vrepVpEmV++rcarweB05rrWDeaeGBYmc00NlznEtg/GeZ76XQ8jzCS5bVmsYVWt9Xte+9BD2\n",
       "vmcvnMTMqQhNb5TLkKV3Eht93E85Vq8xKRuPrdMRUyaYlZPh3eW/nqk9kCOwYYIKe5XJUkbZJvAm\n",
       "77pvwHyjhCbwhkIfCNLy05z/gA7eYnyNvjtxO0Nyu8hpLdOj3AIA4VVvJQR95Sn5I9hnyVixvKad\n",
       "PKWgnj+6xtS/sLsWT7verHTJ7JMbNHq6HMBj5iWBpi+IctJobymEVmkQfh6mYzN1AAABzwGfa3RD\n",
       "fwAPuqqJ17wKM+rwAc5chLmgEyKnnXBXZj7J7kSRZl+s5xW68xoTVayZv9vtryubfbK+rajEKoiQ\n",
       "IJkVe2PRNoLFSCJ0cIu4LF6fFpsP+oLdEghHFmVDungHFVO2BEiKwmfbCP2MbRzd5Kc9krF0KEm2\n",
       "6Eq6hNOMY7mmKJ7d/QQKfqp+3NKR/8rs9QFbJPIK4pwS9kgmxUriiuw8n2mO7QqAlx1SDuaN93gJ\n",
       "CAT0+Qy9EYbxO8sG/1FBnZVpsNzI3ojABvE6+ChUmjg+r2FMVBLZEeASSHk3ee5I6pvoAXj8b6OS\n",
       "tzPi/wkvh6HPDQdHWVYXDMORmgXYab53p5PagGr9Uv3v+QGV3xPtDSp6xAFoUkwPTq2mu+SEkHUg\n",
       "n9uTmg3m8gfXMd9gfFwfntaEOdu2dO4hhHJ9lAy9AjSWI+HQV9ilmXiHkPaYPiw6VkysKg0FPK8F\n",
       "55wiz8pmTAMx7sGzdVrEc6NzaUjmWOu6OZnyUny5Bj3UiB/GAd9dlv7MacjiO4gnw6wPLGNA8C+1\n",
       "2PL/4nalext2Vp1731T5TQqH74rGINYSaxQHGBbvUDDo2FrxbRG6IiMZ3K3FZyyFr23gA3MS6jaZ\n",
       "ZMEAAAISAZ9takN/AA+6qpmtGADmEn9cND08BaocKZcSwE9Ct+m8Rcaef9FW21a7jE+PYKrRCyph\n",
       "OU9xPM420cjl862EkdG6mWKLS17L0XWow/4yOpucpCJHZDtMiHcda6vbdJmrrGlnRAUrfRN1s/UW\n",
       "tShOsrTul4wlj/V39+NEImhd8bPIwYCCbEE9SOhoPvVAZJYXHukVc3RAnZHw/ZQRT5o6d3T8L80I\n",
       "2EXjkIfbBvpSZnWZT84SC1kToEpKA2LmjNkjqbjtEeDHuEP4Fk1InbGyZBd+FYPZjlHWaBV+oL+v\n",
       "XIAQquGbP/+WQpe8uKUG9T//QcBJqdeyd6BBwKeKg+sjcmAHfaeGNwLIn7CulxF82DNMe1fG87AX\n",
       "/vjYcw9/S9mPvcSEUKXyfC0C2P6Hlzs8Rk/rXK9tZMA0TlTzgXwC6W8m3NbZHVdlBreBgNLoAdDz\n",
       "Zexqy/vjxDM5rn386kMU+c8c6tKAmuBDZGxmjsn5O2nK53DPmI6N0L95eICRUEkoC/U6vKpuL4oU\n",
       "VF5YExrfEvBmGudurBYgP2++zwpuK/rlFr6zBv+KeGR87ZPgGMFLEv9Ebu/fuOw/n2JFpApDr/Te\n",
       "+EZnp9kEsuJyHZ54qG66Z2hD7lrEbYuTRyctq6cj5bHzESZTkyTA9ibeSH8uIzoHDdrYJ+8YF2Ps\n",
       "PuyiGlQmvKAZ4DMLefmyhFdwzaXGfa8AAAS0QZtySahBbJlMCCH//qpVAAu3ibwA6HWJlYKOGjLA\n",
       "GW6/GAP48i2nB2fANRtVM0f+LRGdkIksG4PgaWODhZ4sucA5NRHGTOPAhxgk3So88Ewyps0fvTLK\n",
       "hC8jIvX8XRBl/tgPMil1FdirwnZwVAvo7Geum0slNQsBW/oh1BX3lSrcxIJGVPjXT5hGy5A3xk0q\n",
       "ow/itXAcszTfnKr83qrbYRhjDIM1z+zG3zXpm3oHxmyKRWX0jr7ELLfJDalv3UpyY0+H4NnqqIG2\n",
       "ONx45bzGDqmYWfYSBl/LsiNUpJnvLDvPgl0LRSxB77EF8Xn/d9VP/TB0+r5TrxzOyqR5QSyhjWxn\n",
       "nlXsX+uE2ZsNP5y1097EWx2oomjn9V/7+g4biaxeiv5o8jtgqx3VCywTHNuFu2jSdxEqVPD6KDEJ\n",
       "TitecaC6W4RGbrlI1rI5Bqkxwdr6vmAxsFaY3UtWiWMxmY8zrbdtqCC4gMz2sInh6huJz6gYPedk\n",
       "Q1W/fvSxwedcZavvxBqlVR97QqT+FeqlGhZgt737RV/R4UTdK7PycWnMIL/Q6AOjS5H2Pbl3ZN4d\n",
       "heHPbiTltm+VJ2XsbLBgpiZQOeHhMkJHkJqOoEDPa1eT6qmDffslEJRw6q+uTevpfvKRPFvyvDnf\n",
       "sLUsSfkaWeWTPTjx9IDvi4X97UZ7YIhJiII+ZPxCOXdg8wWA4CTJIee0ueWlr2PHdEQ7VDygrhat\n",
       "AmHUoe7RByqDquXedsO0d3ii3c8+Xf2RJwNuzqEjHHYmvTNgY1AECjdz/co+83p9a9xHCqtpqY3G\n",
       "IrG1Lj59w3Xi9e4O8QuWLWmiNlnuM9nd9o0UVcIFXzqWyixEw/fWElU6QGgEMDd6P1HEQFgUD2cb\n",
       "Y1wfq7AK0U17bHCotQXjebaBhvVDaXOOyZaw5PAOaXrCYEEGuyd2C9LF/2N4FjWS/vkR465VP89C\n",
       "rdJBtIrypmjRdNnivDJpOekQ2s/+W/xK/oNR7t/T9appmdmNyFTFFuUBB0O5+Wt7rKu7fzWLyFz+\n",
       "wh2XKfEOLXTS4kP/3fJi8Kin1nP0tCylb7rsqhZE5dievaL+l1aCt1E0TeEyHcbMC9t0woGEX225\n",
       "F7QmdMMWd/iJmGGCDmE9f114xkHpOanezqP0J4rd4DCTbEJ0bY/DkieIshzw9mBRADJBg1fM/pKG\n",
       "BGXCPZMlachtwgMZ4/v1Airrz225xjp73VW53rzRlUedZvp+hhKkKaiNtB+rbN7QdUeGDsXnWjE1\n",
       "ZPNNJVbTN9XCxl6eHF6/3+rsUd/yTncP3UBy9C35kk1TSIc0dZMKEJrLrgB+FhwtKp035PMhoSXx\n",
       "/RNjq8DU1DBNnLX5dwgfWzOTijfleGS3CXhmYt/8SH6hVvo2Ep2Sly1nzz3xOVvgJpSUg08FLOr/\n",
       "RFJZdlgWe+fQgTev10hoW7x20EgP2uVBi5zEjBuwNPVWRLoSZipjEgJz0f0enrYIZPtWKOyr/fo4\n",
       "HGznCO1yTWAmJH9VQfqIxxXn9zXf5FlvtWnqe9KiAM7t180kDbXQpEjqibKhO6p7HeH8i9e0vIlP\n",
       "u8HsFPuU5kG/+hIZ+3YBxR0F8Md8AUmazouWJ2DSdWjsQQAAAj9Bn5BFFSw7/wALVjA3seGuCQAb\n",
       "OzbjM5oru0y9Kr7un+ASAct4vj8G+ZAAt+FBbKFtOjpf4rY5ypzvSMUxpH594azka5hVTwQmUaEY\n",
       "2c85lnJyXOS/SzBQQAnXWeRaEl8SKjxAJfa3GRBzakgYe8Gc7G2nTrQ5CZ5rEnwxYxxB4iuhlJA9\n",
       "t3MkTLo8znFeRpoMdyB5Pqx8a/P6F/VTAjGokWqsb8tmK8BeZ0ZEMVZkBcBne/Jb43luirCUBBB7\n",
       "dNEH1ARxhChYswqVFS5DgzFFhJ58B227LABG3kyz5aIoClAoRfRoVUBGpSHYMQ8e30PXMQvHrkkO\n",
       "1nMn4n8KzTAr2aTe9kOcGUZ9DXPfykXbcz+iCemn7wlPxdYO97DHXvzT5EF+0ZomUioG4JWXO1rR\n",
       "CxnwWG27j/yJ2IMcdzg0JL8jPKJiNjpqem2vrxxrebCREaPawFUwMMDHIPQBuf65ipngZncQHqDD\n",
       "8wXJ+fAYg6dzJJh4IjPp/2aw1T3cL3berTkxo5BSN1zI8nisxdrhm2fPnDRRMcyknuCPfEOUDQ3d\n",
       "6+b0wCIfG5tOoILyHnZpj2W1ve+Tjpl7Rl+EeE9CYMUoy/AvGqxD9kaeLawD11GYLwtM43vSUvmc\n",
       "pNrhP8OhVXKYJRlnQHDSBNq3Yvmuk/23K4LhH2WUKHYv3LYkRMiSdn8SbcepEFaE2myvUK4TR2tr\n",
       "4Z3UHtL3q5qhCMmRyGh7xmKInZ4qJFOhFV+tyYU/xczBpkgWBOD3DkmsnwAAAZUBn690Q38AHw08\n",
       "x4M3R59tABfD5I3KjY/iDuX/nYy0muTmSjp3C28DnofXhk/Cb4w9d/LJTiq/wdZkwLxC1xIrfq/V\n",
       "ba8kkJCwq09mVhCnd/N7JgBMuIu8uar/dvCH0UvLpeqRyKN5vF8HT753BSIkscYZ/aNHwkzGQMBn\n",
       "Dd7gYnWIMkn+rogMDp55bjMfBv7+SG7Pa+/4RJ0Byr6gm0pzCE6N+Z0g5RBZLpbkPmKgtF/BuqkT\n",
       "glRsdZkpaSrj3YARikKpIhLWoQq73E4FxMf1D28kmMWoGgFHfH6ggeGTv/FqpdGwT6Oz8yg4bvlO\n",
       "Rbr1/R9/7Tv8+k1DrAMLKvDHWsV7w55jn8j0qkm2LeXe1NIak7q8dw9HvFA9vcv78cMo403M6xre\n",
       "01HBbhBrUMgVUe5fcSQt5VXzwWcaMEVH3e/Ol1dJEEwMPDbaLkcizViQPKPmsce/fj4t/CTjgmY3\n",
       "kjts4u9qbOMOWKGmc+dWcXUlOmYeTQqCab8Ni2xdTs68ia449rwYoJJRxnngAZvZfnSpk4AAAAEc\n",
       "AZ+xakN/ABBYvDF4i965yAC+Ydjdy04Ki23FcYnKCVbBjXJsH5PcSIVUTTHxs/j3IWSTZAR0we+e\n",
       "W7QZEAjgsIO6NwePM5PvnrdaPVQrN3iOc0JJmpzZnIqffWjaUq4vJB4Tust6ujMMocpy736dVme7\n",
       "X1rc8ORTVkKRGvPBSNm6wEuonS53wenxq1lUrWOjRiskv0PLdSwJC2PNxpvk3PRlVJWqZeuIqUGz\n",
       "7T73Nyuia5TSGKXcBCgobA+bJSeUHcD2ZXh+99ghjs87A2EzmESaUkZbWXDpRuypNm1qTHsXAltI\n",
       "wQjKW/MKHOdc1gQX0H4zxW3nhhkd23GWmv3ghGoloH3sgnOfQL/GXaXa/LYRcGy2AChqH8lfguEA\n",
       "AALtQZuzSahBbJlMCCP//rUqgAXcn6QAV8st1YOiSPfSSo7RjyQ+JLgKyyT32sdaOnml2TNx78Xf\n",
       "raiMMIPZ1y0+n8jF1x2kH2crGA5ZE6GZ46R1IAvYP6G5tQGpAHEzk72KBwj0mBsJJ85+S+fPQ9ZD\n",
       "w8jzN3nOWLZDCnmMI0Re6fZAmO2/Ytu/pbKeal6418D1NbGr1Ct6xT/A4j4Th7IUuRqraj1ssGTa\n",
       "Iuak+Q/J0QbutZ3VVqpznPNimIxS71aLvxA0Tz3uofDKu+ZRARCcYB5Q/lzod1D5xJuGXEN9Rpb5\n",
       "lAepyvVYN/l9ehtj82aXT0ycgSmKoFbN31ifZVEV11Ha1CQAXOEb7ZdjD7eXPwkBurYEA3KhHs1S\n",
       "fQ1DiPJfQidgaTssz0FGq6pDG4/mrhNgiQXHzPdjvzv7BUm9Cn2VX3/RuPPxO+uX0HvlWHjns8SX\n",
       "9kOcve4H6onBNJ5LGeVrdxsTKqkupPlvHqai7lmjEZIxTC1E4n1CV4nekKGJzER2TXkZ5u4t85V4\n",
       "6WDEvaKS3evqh6wILAtfmuYKzrs6fus5p+LvOlZybJiF2oIkc/vJpf5w80zppNiQ9Uvfq/3him4E\n",
       "WzzMYMCo1RsWfXKGOq824dYslpLMS535QHcHLMtvI0cvA4LcBB9fHE6GaJtUB12S0pPzJwYAobiL\n",
       "Hy5g1LTZBXVL7kozEk9mg0Rzizadi6T3Ak3QB2xgpfSlVrKzepts6PijemZsRwdqpxP+fyzoQjhg\n",
       "HWtD8yhJyw2hkRLmDz+s3vMHU1Qs91U/zsgy25HKTgl5ROx8YjcjDBf7WRy3v5dB+4EphF10y5px\n",
       "fDksELJpm7F4/eq0JfBvPcWdPMm1W2WeVT1Fylg9lm0SqyCwJK8Sva5uVR9DhxmkncPpSzitjRfq\n",
       "O+VOOTJKGU3h0Hq0aSmsw2bUTJeLtspjjobfhsJ961Ev9VwnzWEdNPaFwwP7ni/U777vvh99dTqm\n",
       "ktsfOTsaeWSLnj4AAAOoQZvXSeEKUmUwII///rUqgAXcn6QAV87J+QZAfBnga3b/61z1VAdFvwTc\n",
       "P80TXJ+kQDhtJ9gQmpoTHyr1WPJTZSahLLH7bd5jzUUuCBQW5TTQwA3zDA4U88EZfRRGF8gtq7Yb\n",
       "jWCK0jcYpSDrLFqWptKo1js4ciLTZa9Ewo3EnjtanJZBvjvPqMMiwiPLv+bjqzorh3jl8OYD0hYb\n",
       "l+/ggooNacy/CkxKOYregs8gmLyseO62+FpeVjnBwgW5qASzF7dnT85NulL//sPba182TeHYYoc/\n",
       "wmUSqbHJPEgnuD0TEVLMdfBlCfc635Z5eHzhva/v7TJacQX6c9zDcCclX/AdSnpxs+enavpHZUYx\n",
       "BEYKeUnZ0cFM8ebew646rMjBiYuDDhP5LroyC2YVHKO3dJAhWUkVVX3nFCqZqrOLgrKIRrk2xAjt\n",
       "m3DXrmDRO4fZmu+4hlB5grZhZ/uPhMp4LlFIhbBokRlZrCcrcACwqbEA4tm/TxGxHxY+UkqB8uce\n",
       "gIJdx+ynVfXhKJOBzANf3S1ApQH8H9oH5xJyq/jgXf7H2ewYpAfHpKHE1ewaI7TG1SufCmfTwnCD\n",
       "iY6NFu5OvoNNeZMldds3JZ5pLFd6HsuvAvQXyOtERnR5fYqLh/1ecxQtweRrg3PiWrgjGRSO4/9t\n",
       "JHxA8baz3N14Y8RT9u+Eu/Ny4NR5M6FXgonUASMpINWCFwzhTrsDiQnd0yJUsplr70EfoWqxuchN\n",
       "0ZTjitWTzNSiTszvhha1V3yhuYAaZUXKQ+alJ5h7II6I43fazvpaMx3nLsthwLyhq2J0bLYaXFig\n",
       "j9L1sO5h2Xumx+ECm4bnsO2GJAnSyjq0QZWXrU1VSU4w8w46de7oC51/WIpbuUqPupQlLKAUnYIN\n",
       "4ESWbjc7E8cZkXA0VA21PWf2OPEuOVoyX+Urtd8FaDvr9M9Uwfq36D3iwnoHBD6XLOKAEyrIFdt1\n",
       "lqW2HYxKuA2UtTHFPHU7Shd1d5bwzZxXaKoj2eUf+/ma7ZmAszayQYcy+MNUX9ePnT6fbxWE8ozj\n",
       "F9MPNn6byaoAeItZ9NU1lc44AZYIVm3lqn8uUR7xYBlvjzaGscnTUTJF5818PmqEv/znsgg6xd9N\n",
       "aGrjB8qCHCzD3gPxbSfAH6oKfoBohsG/WXar3yQbGXbK2n+ewOaPAlFM7+vYCe8Quazdao9Zv70p\n",
       "J6SW+UC1v1LcIV0Dg+xlSAlM7zXp18J+BHQab8gv+jyOMZON5HFAAAABMEGf9UU0TDv/AAtWMDQL\n",
       "WAG7IYlcdcDADGwpqVw7tVoeCWvGCvhYff5p3VqR3aLOVZ4D57QJTICKwZ9kP5j6dQqHCjcZbPv4\n",
       "8l9GQ5SDykBFc7SiVg7uhx5mWRzlEWqsV5WzY5TDWTUFq2USCrrfCTwxaaZ+vsO/vUJlAWtNqVNd\n",
       "XdQ6k3zO/YWEobserp8RZ1cLKhCtrqodKMirffayOkd2S5W2m8lqRjv10ywiucwATL4NurqxPbrp\n",
       "mmd8hhDKtC/PlTpzPJK0w6whPW18oCDDZqohius97/LpDSE2Zz0TQCW5gmdCclqE9jFA2fpU+F26\n",
       "vTiX0qpcAVHoE+hsZ1H5Y3cYQFc7RHDOeG342ATdjI0+I9G6zfaS7HHvxA3Pjs/++22duZk9NnWd\n",
       "ghvcDTkAAACpAZ4UdEN/ACBSABn/qMAaAA7MUOwp0Ja9D8jWLzdLsUfOlRND1OnmONdwu8PAbl72\n",
       "v3CbHT+CcuyYBXPYyCy0JBetb/UAWfbIfDz/BL/PrGkJyXK+EFNP4eXU8g9fca344eQluvfduu7W\n",
       "aRg/K+mSZ2OJnh/UKP/UimyHUKc10nbrDpChxyRcBYA/Hk5PIootFP2Hb4xx5n7DZSgz4ZEdQAtW\n",
       "bsN8oDaguwAAAGEBnhZqQ38AIFIAGhAyk737XAAdWHPyLCf/em1xdQ9HtaPQPts+gbXaLHHT4Mjl\n",
       "cc+xXRczK7NQQFIAqqOobNHpWTJZ3y9vsWQWvLw0vjT3Tb1LPGA5mZLQAHIkNvFeSynlAAACXEGa\n",
       "G0moQWiZTAgj//61KoAF3DT6ABxi0lyhHx+jMqGlizOtSxx+koJc54iOII/Hsh6aA165TDflCmUf\n",
       "nlRj//XASq/gapnA01XUny1cdl/D3ZU+94P+8mNk/3VBE4gPCCkLf45KCkhlY/ePy9WX2Q/54fE/\n",
       "i5t3STVJ+WgA2DDWaOeOJrPFs7r/qNZkRttQXbIsSPJeyaVh55oNJtB+6gQnfrNflt2TG+4jWEg1\n",
       "OR4IfNs+0c7iAYxzkgAC2FevwNzuBKQasyh8HmVeJhiuLU2V0YU/TFjuub68X4chkat0lEeP48kt\n",
       "K+8rLQnMknvPSLAdv59xdKimfxpwXZ8YiZSAFERDnT+I86y0R9jtci8YVCksj5msm/EBNFP8YuEF\n",
       "lvcfT7Lplo0A9fN1Ragm1Q+hv5FA4PfwtmdqpDug51EGOQ/ZpvMexkHZFqwdVSr2AM8YMWIF4oDn\n",
       "RgM/MrulyQBhyq44frJPVaOKkbvruIgPHDrtwy3EThbK2CsjzDg5xs6hP5lt+eWiIbSok3jPBhhn\n",
       "0KYldoRtG+iuNmRXVpVOgBI9QEorhoZLnzdqBE+vfSVSaNJW0g0E8ieljnOsIVfTNg4+PomFAkL7\n",
       "9fa5f/LI8Aa2TQQcRaoVTMKzgPgwkX9Ukkk6wa25Acoou/aHKyerfptqhQMhlZqMzG8UPW0I80mt\n",
       "v8bu9SlL7da5X+dySrqXb4l/GIGR6VXQC7qpemGbmlAKqWZ9Cird6MHQ2RYfnD9V+rVVcGoEbFyZ\n",
       "4GsxJ8Pm436AUf5KVnnuOZM29pA3ml0K+YvbGWNdU3EAAACjQZ45RREsO/8AFzxgv1cnATqg9a2W\n",
       "0Ofz8YAP4MlgWZuWXjpkqFzbAKfHf+5fMytHjGF9tCUv810IunqL/SemZdq/EjftKE0+yeQ9nkQF\n",
       "my6rjdHEymuuefIvYPpu9oeq8JKTg7Zf0SK6efyNctzvlGShps37YJGJVL5fbe09V3Uj5GesTOKV\n",
       "MeCgnpeoa61Y6VL75uTuasfy9udMHL2KHsjzMAAAAC0Bnlh0Q38AIK+y0RyzOWbWvFHk8DtmtVfx\n",
       "fQT8sES8x6SxAQP3mDLsJqN+wdEAAAApAZ5aakN/ACC17JCXhzICirty8QfzKs+AYbnyg5/PsBU7\n",
       "QOFNmYxK+UAAAAFvQZpfSahBbJlMCCH//qpVAAu4hVZpFUsXPgARyEIZ/FCp7bY3io5Zaw6/eBjT\n",
       "jyXuX5umGS1+MF3hwiaURS7alcUQ0MzC1SJ4yHzAM0bwSwVdINTzFd1hiUOnyz5cvXgC7SoopMKG\n",
       "4PHqLdfwdUuHkkwWocPwwgwzYcC0omT/EovWs99eEWpn49U9y8D4TzrXUHV2+ja7hnxLjc9Y6TvB\n",
       "B/MsJpK8TT8Rppy3caAUAn5T+ZgowTjIQZooO7WhPLNPcSYSbPS7mmgJL0D3MVlcKDQh9J9amfX4\n",
       "zVllAja//zGTvDSOckRDkabAIs9LlXyFhRY/B8oMUDZMqMAeJ17SycvH/KquWxFEWp08Wg93k6J4\n",
       "p0ftL+uTRrEmMa+vmu6HUSossr5NfPEFIH3ztU4UakNnbA4ETU/NXlj3vnuJLo87nL1DWCjMFZxF\n",
       "fy/DxdDpTMcpb5HATwbJxT0+5ggRxRPrbjDdPEOgcF2ZrBchgQAAAEBBnn1FFSw7/wAXdwwd1tOh\n",
       "ZlQsDvwemtCaAVkCesXPyW/WWrpmrtutd9M5hkLliEFu8eIZw7oL6bfg/QOY38rTAAAAHwGenHRD\n",
       "fwAgr7LWy7NaAL3wqOCiv2zTK1YABWn8BhYAAAAmAZ6eakN/ACC17JdbbldDkjMQ+KX3sXOj8Wk7\n",
       "EPSd+PgAXg3o94AAAAFEQZqDSahBbJlMCCH//qpVAAu3j4AAcW2XgEsWGX5YTwIhlCtPoVoBmnqm\n",
       "Wu1F4MTF4rTqWKwgcBELUEnnvzxXfbuLRfikJwt7kXZr6IBIBMKtO8Sn2ZP+DmkPPeqdxuaC1uYe\n",
       "wEsjcplWy/KuMMrv4lRmeKiuw/S9yyDcdRVbs4j/oc0gQEhAevU4Myl0f79GR+Nnx9AMSQelNJR4\n",
       "kOKxc+L/XxIN2eYjyjUfV2hvrbeCP+iy3ah1AOKaD3SygKIMq2SVxce73/Yx8cyKxPhhHFbx1yOw\n",
       "IRH1tgCL2LCfUSqbfmLnYe7aIUBNCEG2Cyw3PeScFhqfcDh3PdUvYNR28FJhKLuowrSGP1DtPnwH\n",
       "hU4cGgk1hJGTKEvYa00KksVNgZPi71hUy2vTmxvyfiMGKCm9zCdp84z7LX+LDB/2warqx3CBAAAA\n",
       "NEGeoUUVLDv/ABd3DB6lX52RjNlvOqLDiDD/jsAI+NBfuZ8dP8900Be7I2PBmQ1wASEyhJwAAAAn\n",
       "AZ7AdEN/ACCvstbLvKoHIcxz2unI5SZCspvGdPYKgAJkrwwRM7HBAAAAJgGewmpDfwAgteyXW25X\n",
       "Q5IzAsgKg7BHhaXeFRmngAHtFJ2SRhnYAAAAmEGax0moQWyZTAhv//6nhAAo3UD6AC+ulMeWsOf1\n",
       "v8nIb2v0VE8u+E8rLOeRBQvhvTQ/k9FcjQIMnlaYyo1RVX+AwI1vhx4gb+Ii8tG/gGrYbWOtbzUq\n",
       "vy1apkfGwn4hMCD/wC7dwdF5pwQlSJBQ+mgq+eYOm4vLZmhNpHwHjdWqJOjkkLRMfkJ2A6rfC2Uy\n",
       "1DtHhTIqIq4RAAAATEGe5UUVLDv/ABd3DB6lX52RjNlvOV6MW6h6FFwXNJBTKynFreS+2wFVKZvy\n",
       "HZQAK+cc1qmw9c8b6RQ9Q9hvgTEG+7vy4fDI8b7qqvEAAAAiAZ8EdEN/ACCvstbLvKoHIcxNXGjc\n",
       "xrgn6aHi6gAdh9A+YQAAACcBnwZqQ38AILXsl1tuV0OSMwLGw4GkSPRtn/OcGdCcn8AAXw740YEA\n",
       "AATfbW9vdgAAAGxtdmhkAAAAAAAAAAAAAAAAAAAD6AAAD6AAAQAAAQAAAAAAAAAAAAAAAAEAAAAA\n",
       "AAAAAAAAAAAAAAABAAAAAAAAAAAAAAAAAABAAAAAAAAAAAAAAAAAAAAAAAAAAAAAAAAAAAAAAAAA\n",
       "AgAABAl0cmFrAAAAXHRraGQAAAADAAAAAAAAAAAAAAABAAAAAAAAD6AAAAAAAAAAAAAAAAAAAAAA\n",
       "AAEAAAAAAAAAAAAAAAAAAAABAAAAAAAAAAAAAAAAAABAAAAAAfQAAAGQAAAAAAAkZWR0cwAAABxl\n",
       "bHN0AAAAAAAAAAEAAA+gAAAIAAABAAAAAAOBbWRpYQAAACBtZGhkAAAAAAAAAAAAAAAAAAAoAAAA\n",
       "oABVxAAAAAAALWhkbHIAAAAAAAAAAHZpZGUAAAAAAAAAAAAAAABWaWRlb0hhbmRsZXIAAAADLG1p\n",
       "bmYAAAAUdm1oZAAAAAEAAAAAAAAAAAAAACRkaW5mAAAAHGRyZWYAAAAAAAAAAQAAAAx1cmwgAAAA\n",
       "AQAAAuxzdGJsAAAAtHN0c2QAAAAAAAAAAQAAAKRhdmMxAAAAAAAAAAEAAAAAAAAAAAAAAAAAAAAA\n",
       "AfQBkABIAAAASAAAAAAAAAABAAAAAAAAAAAAAAAAAAAAAAAAAAAAAAAAAAAAAAAAAAAAGP//AAAA\n",
       "MmF2Y0MBZAAW/+EAGWdkABas2UCAM+fhAAADAAEAAAMAFA8WLZYBAAZo6+PLIsAAAAAcdXVpZGto\n",
       "QPJfJE/FujmlG88DI/MAAAAAAAAAGHN0dHMAAAAAAAAAAQAAACgAAAQAAAAAFHN0c3MAAAAAAAAA\n",
       "AQAAAAEAAAEgY3R0cwAAAAAAAAAiAAAABwAACAAAAAABAAAUAAAAAAEAAAgAAAAAAQAAAAAAAAAB\n",
       "AAAEAAAAAAEAABQAAAAAAQAACAAAAAABAAAAAAAAAAEAAAQAAAAAAQAAFAAAAAABAAAIAAAAAAEA\n",
       "AAAAAAAAAQAABAAAAAABAAAIAAAAAAEAABQAAAAAAQAACAAAAAABAAAAAAAAAAEAAAQAAAAAAQAA\n",
       "FAAAAAABAAAIAAAAAAEAAAAAAAAAAQAABAAAAAABAAAUAAAAAAEAAAgAAAAAAQAAAAAAAAABAAAE\n",
       "AAAAAAEAABQAAAAAAQAACAAAAAABAAAAAAAAAAEAAAQAAAAAAQAAFAAAAAABAAAIAAAAAAEAAAAA\n",
       "AAAAAQAABAAAAAAcc3RzYwAAAAAAAAABAAAAAQAAACgAAAABAAAAtHN0c3oAAAAAAAAAAAAAACgA\n",
       "ABW1AAADCwAAA+EAAAN2AAAC6gAAAtgAAAL9AAAFLQAAAf0AAADwAAABTQAABLUAAAKEAAAB0wAA\n",
       "AhYAAAS4AAACQwAAAZkAAAEgAAAC8QAAA6wAAAE0AAAArQAAAGUAAAJgAAAApwAAADEAAAAtAAAB\n",
       "cwAAAEQAAAAjAAAAKgAAAUgAAAA4AAAAKwAAACoAAACcAAAAUAAAACYAAAArAAAAFHN0Y28AAAAA\n",
       "AAAAAQAAACwAAABidWR0YQAAAFptZXRhAAAAAAAAACFoZGxyAAAAAAAAAABtZGlyYXBwbAAAAAAA\n",
       "AAAAAAAAAC1pbHN0AAAAJal0b28AAAAdZGF0YQAAAAEAAAAATGF2ZjU2LjQwLjEwMQ==\n",
       "\">\n",
       "  Your browser does not support the video tag.\n",
       "</video>"
      ],
      "text/plain": [
       "<matplotlib.animation.FuncAnimation at 0x7fbd54b07c10>"
      ]
     },
     "execution_count": 12,
     "metadata": {},
     "output_type": "execute_result"
    }
   ],
   "source": [
    "fig = plt.figure(dpi=100, figsize=(5, 4))\n",
    "plt.scatter(x,y)\n",
    "line, = plt.plot(x,lin(a_guess,b_guess,x))\n",
    "plt.close()\n",
    "\n",
    "def animate(i):\n",
    "    line.set_ydata(lin(a_guess,b_guess,x))\n",
    "    for i in range(10): upd()\n",
    "    return line,\n",
    "\n",
    "ani = animation.FuncAnimation(fig, animate, np.arange(0, 40), interval=100)\n",
    "ani"
   ]
  },
  {
   "cell_type": "code",
   "execution_count": null,
   "metadata": {
    "collapsed": true
   },
   "outputs": [],
   "source": []
  }
 ],
 "metadata": {
  "kernelspec": {
   "display_name": "Python [default]",
   "language": "python",
   "name": "python2"
  },
  "language_info": {
   "codemirror_mode": {
    "name": "ipython",
    "version": 2
   },
   "file_extension": ".py",
   "mimetype": "text/x-python",
   "name": "python",
   "nbconvert_exporter": "python",
   "pygments_lexer": "ipython2",
   "version": "2.7.12"
  },
  "nav_menu": {},
  "toc": {
   "navigate_menu": true,
   "number_sections": true,
   "sideBar": true,
   "threshold": 6,
   "toc_cell": true,
   "toc_section_display": "block",
   "toc_window_display": false
  }
 },
 "nbformat": 4,
 "nbformat_minor": 0
}
