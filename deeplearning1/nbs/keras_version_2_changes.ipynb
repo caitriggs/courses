{
 "cells": [
  {
   "cell_type": "markdown",
   "metadata": {},
   "source": [
    "# [Keras 2 Changes](http://forums.fast.ai/t/keras-2-released/1956/22)\n",
    "\n",
    "Just as a note, here are the changes I had to do on utils.py to get the lesson 1 working Keras 2 on Windows (likely same changes required on Linux):\n",
    "utils.py\n",
    "\n",
    "```\n",
    "#import cPickle as pickle\n",
    "import six.moves.cPickle as pickle\n",
    "\n",
    "#from keras.regularizers import l2, activity_l2, l1, activity_l1\n",
    "from keras.regularizers import l2, l1\n",
    "\n",
    "#from keras.utils.layer_utils import layer_from_config\n",
    "from keras.layers import deserialize as layer_from_config\n",
    "```\n",
    "\n",
    "Additionally I had to change set the image dim ordering via code, changing image_dim_ordering in keras.json didn't seem to work (changing backend worked though). Make sure to do it as early as possible, personally I'm doing right after the %matplotlib line\n",
    "```\n",
    "from keras import backend\n",
    "backend.set_image_dim_ordering('th')\n",
    "```\n",
    "Also, `nb_class` seems to have been renamed to `num_class` and `nb_sample` to `samples`, so when running Vgg16.fit, they need to aliased (or probably better to just modify vg16.py directly):\n",
    "```\n",
    "batches = vgg.get_batches(path+'train', batch_size=batch_size)\n",
    "val_batches = vgg.get_batches(path+'valid', batch_size=batch_size*2)\n",
    "batches.nb_class = batches.num_class\n",
    "batches.nb_sample = batches.samples\n",
    "val_batches.nb_class = batches.num_class\n",
    "val_batches.nb_sample = val_batches.samples\n",
    "vgg.finetune(batches)\n",
    "vgg.fit(batches, val_batches, nb_epoch=1)\n",
    "```"
   ]
  },
  {
   "cell_type": "code",
   "execution_count": null,
   "metadata": {
    "collapsed": true
   },
   "outputs": [],
   "source": []
  }
 ],
 "metadata": {
  "anaconda-cloud": {},
  "kernelspec": {
   "display_name": "Python [default]",
   "language": "python",
   "name": "python2"
  },
  "language_info": {
   "codemirror_mode": {
    "name": "ipython",
    "version": 2
   },
   "file_extension": ".py",
   "mimetype": "text/x-python",
   "name": "python",
   "nbconvert_exporter": "python",
   "pygments_lexer": "ipython2",
   "version": "2.7.14"
  }
 },
 "nbformat": 4,
 "nbformat_minor": 1
}
