{
 "cells": [
  {
   "cell_type": "markdown",
   "metadata": {},
   "source": [
    "### understanding convolutions\n",
    "\n",
    "[Super useful article explaining convolutions and kernels.](http://colah.github.io/posts/2014-07-Understanding-Convolutions/) About 2/3rds through the article it ties probability distributions to what the output of an image processing convolution process' output is actually telling you. \n",
    "\n",
    "> Just like one-dimensional convolutions, we can think of a two-dimensional convolution as sliding one function on top of another, multiplying and adding.\n",
    "\n",
    "> One common application of this is image processing. We can think of images as two-dimensional functions. Many important image transformations are convolutions where you convolve the image function with a very small, local function called a “kernel.”\n",
    "\n",
    "![convolution image](./notebook_imgs/convolution.png)"
   ]
  },
  {
   "cell_type": "code",
   "execution_count": null,
   "metadata": {
    "collapsed": true
   },
   "outputs": [],
   "source": []
  }
 ],
 "metadata": {
  "kernelspec": {
   "display_name": "Python [default]",
   "language": "python",
   "name": "python2"
  },
  "language_info": {
   "codemirror_mode": {
    "name": "ipython",
    "version": 2
   },
   "file_extension": ".py",
   "mimetype": "text/x-python",
   "name": "python",
   "nbconvert_exporter": "python",
   "pygments_lexer": "ipython2",
   "version": "2.7.14"
  }
 },
 "nbformat": 4,
 "nbformat_minor": 1
}
